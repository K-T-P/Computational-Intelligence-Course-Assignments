{
  "cells": [
    {
      "cell_type": "markdown",
      "id": "fa947a47",
      "metadata": {
        "id": "fa947a47"
      },
      "source": [
        "# HW1: Train a precptron model\n",
        "\n",
        "In this assignemnt we want to design a simple neural network with only one perceptron unit and train it with a simple dataset.\n",
        "\n",
        "The main goal of this assignment is working with the PyTorch library so you are not allowed to use any loop in your implmentation or even methods from the NumPy library.\n",
        "\n",
        "**Notes:**\n",
        "- When you submit your assignment, the output of every cell should be visible.\n",
        "- You are not eligible to change any parts of the code except the predefined sections.\n",
        "- You can add your implementation only in the predefined sections.\n",
        "\n",
        "<br />\n",
        "<br />\n",
        "<img src=\"perceptron.png\">"
      ]
    },
    {
      "cell_type": "markdown",
      "id": "8fe133d7",
      "metadata": {
        "id": "8fe133d7"
      },
      "source": [
        "## Getting started\n",
        "You will start by importing libraries, reading dataset, and visualizing it."
      ]
    },
    {
      "cell_type": "code",
      "execution_count": null,
      "id": "28bb46f4",
      "metadata": {
        "id": "28bb46f4"
      },
      "outputs": [],
      "source": [
        "import torch\n",
        "import matplotlib.pyplot as plt\n",
        "import pandas as pd"
      ]
    },
    {
      "cell_type": "code",
      "source": [
        "from google.colab import drive\n",
        "drive.mount('/content/drive')"
      ],
      "metadata": {
        "colab": {
          "base_uri": "https://localhost:8080/"
        },
        "id": "uphru_WIaIbF",
        "outputId": "eb3f4adc-0ed5-4aa4-d23e-c09806b7d85d"
      },
      "id": "uphru_WIaIbF",
      "execution_count": null,
      "outputs": [
        {
          "output_type": "stream",
          "name": "stdout",
          "text": [
            "Mounted at /content/drive\n"
          ]
        }
      ]
    },
    {
      "cell_type": "markdown",
      "id": "69b2419a",
      "metadata": {
        "id": "69b2419a"
      },
      "source": [
        "### Load dataset"
      ]
    },
    {
      "cell_type": "code",
      "execution_count": null,
      "id": "3f71c882",
      "metadata": {
        "id": "3f71c882"
      },
      "outputs": [],
      "source": [
        "# Note that if you get an error, you should change the dataset.csv to\n",
        "# the correct path of the file.\n",
        "# dataset = pd.read_csv('dataset.csv')\n",
        "dataset = pd.read_csv('/content/drive/MyDrive/Seventh Semester/Computational Intelligence/CI_HW1/Que3/dataset.csv')"
      ]
    },
    {
      "cell_type": "code",
      "execution_count": null,
      "id": "197a7ff3",
      "metadata": {
        "id": "197a7ff3",
        "colab": {
          "base_uri": "https://localhost:8080/"
        },
        "outputId": "0a65693b-da2f-41d8-b5c9-bb42b79d682b"
      },
      "outputs": [
        {
          "output_type": "stream",
          "name": "stdout",
          "text": [
            "<class 'pandas.core.frame.DataFrame'>\n",
            "RangeIndex: 500 entries, 0 to 499\n",
            "Data columns (total 3 columns):\n",
            " #   Column  Non-Null Count  Dtype  \n",
            "---  ------  --------------  -----  \n",
            " 0   x1      500 non-null    float64\n",
            " 1   x2      500 non-null    float64\n",
            " 2   y       500 non-null    int64  \n",
            "dtypes: float64(2), int64(1)\n",
            "memory usage: 11.8 KB\n"
          ]
        }
      ],
      "source": [
        "# Dataset general information\n",
        "dataset.info()"
      ]
    },
    {
      "cell_type": "code",
      "execution_count": null,
      "id": "9f584faa",
      "metadata": {
        "id": "9f584faa",
        "colab": {
          "base_uri": "https://localhost:8080/",
          "height": 206
        },
        "outputId": "56155af1-1806-4962-f279-1cb438e02eed"
      },
      "outputs": [
        {
          "output_type": "execute_result",
          "data": {
            "text/plain": [
              "         x1        x2  y\n",
              "0  2.780914  3.649500  0\n",
              "1  0.649471  4.428423  0\n",
              "2 -3.393311 -1.439415  1\n",
              "3  3.007704  2.896864  0\n",
              "4 -3.745867  1.894699  1"
            ],
            "text/html": [
              "\n",
              "  <div id=\"df-4bcfdcdf-2666-481a-9ae1-272488fe9e9d\" class=\"colab-df-container\">\n",
              "    <div>\n",
              "<style scoped>\n",
              "    .dataframe tbody tr th:only-of-type {\n",
              "        vertical-align: middle;\n",
              "    }\n",
              "\n",
              "    .dataframe tbody tr th {\n",
              "        vertical-align: top;\n",
              "    }\n",
              "\n",
              "    .dataframe thead th {\n",
              "        text-align: right;\n",
              "    }\n",
              "</style>\n",
              "<table border=\"1\" class=\"dataframe\">\n",
              "  <thead>\n",
              "    <tr style=\"text-align: right;\">\n",
              "      <th></th>\n",
              "      <th>x1</th>\n",
              "      <th>x2</th>\n",
              "      <th>y</th>\n",
              "    </tr>\n",
              "  </thead>\n",
              "  <tbody>\n",
              "    <tr>\n",
              "      <th>0</th>\n",
              "      <td>2.780914</td>\n",
              "      <td>3.649500</td>\n",
              "      <td>0</td>\n",
              "    </tr>\n",
              "    <tr>\n",
              "      <th>1</th>\n",
              "      <td>0.649471</td>\n",
              "      <td>4.428423</td>\n",
              "      <td>0</td>\n",
              "    </tr>\n",
              "    <tr>\n",
              "      <th>2</th>\n",
              "      <td>-3.393311</td>\n",
              "      <td>-1.439415</td>\n",
              "      <td>1</td>\n",
              "    </tr>\n",
              "    <tr>\n",
              "      <th>3</th>\n",
              "      <td>3.007704</td>\n",
              "      <td>2.896864</td>\n",
              "      <td>0</td>\n",
              "    </tr>\n",
              "    <tr>\n",
              "      <th>4</th>\n",
              "      <td>-3.745867</td>\n",
              "      <td>1.894699</td>\n",
              "      <td>1</td>\n",
              "    </tr>\n",
              "  </tbody>\n",
              "</table>\n",
              "</div>\n",
              "    <div class=\"colab-df-buttons\">\n",
              "\n",
              "  <div class=\"colab-df-container\">\n",
              "    <button class=\"colab-df-convert\" onclick=\"convertToInteractive('df-4bcfdcdf-2666-481a-9ae1-272488fe9e9d')\"\n",
              "            title=\"Convert this dataframe to an interactive table.\"\n",
              "            style=\"display:none;\">\n",
              "\n",
              "  <svg xmlns=\"http://www.w3.org/2000/svg\" height=\"24px\" viewBox=\"0 -960 960 960\">\n",
              "    <path d=\"M120-120v-720h720v720H120Zm60-500h600v-160H180v160Zm220 220h160v-160H400v160Zm0 220h160v-160H400v160ZM180-400h160v-160H180v160Zm440 0h160v-160H620v160ZM180-180h160v-160H180v160Zm440 0h160v-160H620v160Z\"/>\n",
              "  </svg>\n",
              "    </button>\n",
              "\n",
              "  <style>\n",
              "    .colab-df-container {\n",
              "      display:flex;\n",
              "      gap: 12px;\n",
              "    }\n",
              "\n",
              "    .colab-df-convert {\n",
              "      background-color: #E8F0FE;\n",
              "      border: none;\n",
              "      border-radius: 50%;\n",
              "      cursor: pointer;\n",
              "      display: none;\n",
              "      fill: #1967D2;\n",
              "      height: 32px;\n",
              "      padding: 0 0 0 0;\n",
              "      width: 32px;\n",
              "    }\n",
              "\n",
              "    .colab-df-convert:hover {\n",
              "      background-color: #E2EBFA;\n",
              "      box-shadow: 0px 1px 2px rgba(60, 64, 67, 0.3), 0px 1px 3px 1px rgba(60, 64, 67, 0.15);\n",
              "      fill: #174EA6;\n",
              "    }\n",
              "\n",
              "    .colab-df-buttons div {\n",
              "      margin-bottom: 4px;\n",
              "    }\n",
              "\n",
              "    [theme=dark] .colab-df-convert {\n",
              "      background-color: #3B4455;\n",
              "      fill: #D2E3FC;\n",
              "    }\n",
              "\n",
              "    [theme=dark] .colab-df-convert:hover {\n",
              "      background-color: #434B5C;\n",
              "      box-shadow: 0px 1px 3px 1px rgba(0, 0, 0, 0.15);\n",
              "      filter: drop-shadow(0px 1px 2px rgba(0, 0, 0, 0.3));\n",
              "      fill: #FFFFFF;\n",
              "    }\n",
              "  </style>\n",
              "\n",
              "    <script>\n",
              "      const buttonEl =\n",
              "        document.querySelector('#df-4bcfdcdf-2666-481a-9ae1-272488fe9e9d button.colab-df-convert');\n",
              "      buttonEl.style.display =\n",
              "        google.colab.kernel.accessAllowed ? 'block' : 'none';\n",
              "\n",
              "      async function convertToInteractive(key) {\n",
              "        const element = document.querySelector('#df-4bcfdcdf-2666-481a-9ae1-272488fe9e9d');\n",
              "        const dataTable =\n",
              "          await google.colab.kernel.invokeFunction('convertToInteractive',\n",
              "                                                    [key], {});\n",
              "        if (!dataTable) return;\n",
              "\n",
              "        const docLinkHtml = 'Like what you see? Visit the ' +\n",
              "          '<a target=\"_blank\" href=https://colab.research.google.com/notebooks/data_table.ipynb>data table notebook</a>'\n",
              "          + ' to learn more about interactive tables.';\n",
              "        element.innerHTML = '';\n",
              "        dataTable['output_type'] = 'display_data';\n",
              "        await google.colab.output.renderOutput(dataTable, element);\n",
              "        const docLink = document.createElement('div');\n",
              "        docLink.innerHTML = docLinkHtml;\n",
              "        element.appendChild(docLink);\n",
              "      }\n",
              "    </script>\n",
              "  </div>\n",
              "\n",
              "\n",
              "<div id=\"df-19c33ad6-ad2d-4bea-a6e8-bf02f095d963\">\n",
              "  <button class=\"colab-df-quickchart\" onclick=\"quickchart('df-19c33ad6-ad2d-4bea-a6e8-bf02f095d963')\"\n",
              "            title=\"Suggest charts\"\n",
              "            style=\"display:none;\">\n",
              "\n",
              "<svg xmlns=\"http://www.w3.org/2000/svg\" height=\"24px\"viewBox=\"0 0 24 24\"\n",
              "     width=\"24px\">\n",
              "    <g>\n",
              "        <path d=\"M19 3H5c-1.1 0-2 .9-2 2v14c0 1.1.9 2 2 2h14c1.1 0 2-.9 2-2V5c0-1.1-.9-2-2-2zM9 17H7v-7h2v7zm4 0h-2V7h2v10zm4 0h-2v-4h2v4z\"/>\n",
              "    </g>\n",
              "</svg>\n",
              "  </button>\n",
              "\n",
              "<style>\n",
              "  .colab-df-quickchart {\n",
              "      --bg-color: #E8F0FE;\n",
              "      --fill-color: #1967D2;\n",
              "      --hover-bg-color: #E2EBFA;\n",
              "      --hover-fill-color: #174EA6;\n",
              "      --disabled-fill-color: #AAA;\n",
              "      --disabled-bg-color: #DDD;\n",
              "  }\n",
              "\n",
              "  [theme=dark] .colab-df-quickchart {\n",
              "      --bg-color: #3B4455;\n",
              "      --fill-color: #D2E3FC;\n",
              "      --hover-bg-color: #434B5C;\n",
              "      --hover-fill-color: #FFFFFF;\n",
              "      --disabled-bg-color: #3B4455;\n",
              "      --disabled-fill-color: #666;\n",
              "  }\n",
              "\n",
              "  .colab-df-quickchart {\n",
              "    background-color: var(--bg-color);\n",
              "    border: none;\n",
              "    border-radius: 50%;\n",
              "    cursor: pointer;\n",
              "    display: none;\n",
              "    fill: var(--fill-color);\n",
              "    height: 32px;\n",
              "    padding: 0;\n",
              "    width: 32px;\n",
              "  }\n",
              "\n",
              "  .colab-df-quickchart:hover {\n",
              "    background-color: var(--hover-bg-color);\n",
              "    box-shadow: 0 1px 2px rgba(60, 64, 67, 0.3), 0 1px 3px 1px rgba(60, 64, 67, 0.15);\n",
              "    fill: var(--button-hover-fill-color);\n",
              "  }\n",
              "\n",
              "  .colab-df-quickchart-complete:disabled,\n",
              "  .colab-df-quickchart-complete:disabled:hover {\n",
              "    background-color: var(--disabled-bg-color);\n",
              "    fill: var(--disabled-fill-color);\n",
              "    box-shadow: none;\n",
              "  }\n",
              "\n",
              "  .colab-df-spinner {\n",
              "    border: 2px solid var(--fill-color);\n",
              "    border-color: transparent;\n",
              "    border-bottom-color: var(--fill-color);\n",
              "    animation:\n",
              "      spin 1s steps(1) infinite;\n",
              "  }\n",
              "\n",
              "  @keyframes spin {\n",
              "    0% {\n",
              "      border-color: transparent;\n",
              "      border-bottom-color: var(--fill-color);\n",
              "      border-left-color: var(--fill-color);\n",
              "    }\n",
              "    20% {\n",
              "      border-color: transparent;\n",
              "      border-left-color: var(--fill-color);\n",
              "      border-top-color: var(--fill-color);\n",
              "    }\n",
              "    30% {\n",
              "      border-color: transparent;\n",
              "      border-left-color: var(--fill-color);\n",
              "      border-top-color: var(--fill-color);\n",
              "      border-right-color: var(--fill-color);\n",
              "    }\n",
              "    40% {\n",
              "      border-color: transparent;\n",
              "      border-right-color: var(--fill-color);\n",
              "      border-top-color: var(--fill-color);\n",
              "    }\n",
              "    60% {\n",
              "      border-color: transparent;\n",
              "      border-right-color: var(--fill-color);\n",
              "    }\n",
              "    80% {\n",
              "      border-color: transparent;\n",
              "      border-right-color: var(--fill-color);\n",
              "      border-bottom-color: var(--fill-color);\n",
              "    }\n",
              "    90% {\n",
              "      border-color: transparent;\n",
              "      border-bottom-color: var(--fill-color);\n",
              "    }\n",
              "  }\n",
              "</style>\n",
              "\n",
              "  <script>\n",
              "    async function quickchart(key) {\n",
              "      const quickchartButtonEl =\n",
              "        document.querySelector('#' + key + ' button');\n",
              "      quickchartButtonEl.disabled = true;  // To prevent multiple clicks.\n",
              "      quickchartButtonEl.classList.add('colab-df-spinner');\n",
              "      try {\n",
              "        const charts = await google.colab.kernel.invokeFunction(\n",
              "            'suggestCharts', [key], {});\n",
              "      } catch (error) {\n",
              "        console.error('Error during call to suggestCharts:', error);\n",
              "      }\n",
              "      quickchartButtonEl.classList.remove('colab-df-spinner');\n",
              "      quickchartButtonEl.classList.add('colab-df-quickchart-complete');\n",
              "    }\n",
              "    (() => {\n",
              "      let quickchartButtonEl =\n",
              "        document.querySelector('#df-19c33ad6-ad2d-4bea-a6e8-bf02f095d963 button');\n",
              "      quickchartButtonEl.style.display =\n",
              "        google.colab.kernel.accessAllowed ? 'block' : 'none';\n",
              "    })();\n",
              "  </script>\n",
              "</div>\n",
              "    </div>\n",
              "  </div>\n"
            ],
            "application/vnd.google.colaboratory.intrinsic+json": {
              "type": "dataframe",
              "variable_name": "dataset",
              "summary": "{\n  \"name\": \"dataset\",\n  \"rows\": 500,\n  \"fields\": [\n    {\n      \"column\": \"x1\",\n      \"properties\": {\n        \"dtype\": \"number\",\n        \"std\": 2.8649163486912297,\n        \"min\": -7.307886799640169,\n        \"max\": 3.968430345247676,\n        \"num_unique_values\": 500,\n        \"samples\": [\n          1.3133032693610236,\n          -3.404193936475914,\n          1.3178935843761832\n        ],\n        \"semantic_type\": \"\",\n        \"description\": \"\"\n      }\n    },\n    {\n      \"column\": \"x2\",\n      \"properties\": {\n        \"dtype\": \"number\",\n        \"std\": 2.172701899537696,\n        \"min\": -2.158801253569422,\n        \"max\": 6.74342345996749,\n        \"num_unique_values\": 500,\n        \"samples\": [\n          4.095378271878414,\n          0.6861204192532679,\n          5.490246490258641\n        ],\n        \"semantic_type\": \"\",\n        \"description\": \"\"\n      }\n    },\n    {\n      \"column\": \"y\",\n      \"properties\": {\n        \"dtype\": \"number\",\n        \"std\": 0,\n        \"min\": 0,\n        \"max\": 1,\n        \"num_unique_values\": 2,\n        \"samples\": [\n          1,\n          0\n        ],\n        \"semantic_type\": \"\",\n        \"description\": \"\"\n      }\n    }\n  ]\n}"
            }
          },
          "metadata": {},
          "execution_count": 343
        }
      ],
      "source": [
        "# Displaying the five first rows of the dataset\n",
        "dataset.head()"
      ]
    },
    {
      "cell_type": "markdown",
      "id": "e2771175",
      "metadata": {
        "id": "e2771175"
      },
      "source": [
        "### Visualizing dataset"
      ]
    },
    {
      "cell_type": "code",
      "execution_count": null,
      "id": "aa5727d7",
      "metadata": {
        "id": "aa5727d7",
        "colab": {
          "base_uri": "https://localhost:8080/",
          "height": 735
        },
        "outputId": "9bc6d2b6-d853-4bb1-eea6-8b09d7ac2bf2"
      },
      "outputs": [
        {
          "output_type": "execute_result",
          "data": {
            "text/plain": [
              "Text(0.5, 1.0, 'Random Classification Data with 2 classes')"
            ]
          },
          "metadata": {},
          "execution_count": 344
        },
        {
          "output_type": "display_data",
          "data": {
            "text/plain": [
              "<Figure size 1000x800 with 1 Axes>"
            ],
            "image/png": "[encoded data removed]"
          },
          "metadata": {}
        }
      ],
      "source": [
        "# Plot the dataset\n",
        "X = dataset.drop([\"y\"], axis=1).values\n",
        "y = dataset[\"y\"].values\n",
        "\n",
        "fig = plt.figure(figsize=(10,8))\n",
        "plt.plot(X[:, 0][y == 0], X[:, 1][y == 0], 'r^')\n",
        "plt.plot(X[:, 0][y == 1], X[:, 1][y == 1], 'bs')\n",
        "plt.xlabel(\"feature 1\")\n",
        "plt.ylabel(\"feature 2\")\n",
        "plt.title('Random Classification Data with 2 classes')"
      ]
    },
    {
      "cell_type": "markdown",
      "id": "772f653e",
      "metadata": {
        "id": "772f653e"
      },
      "source": [
        "## Implementation of the algorithm\n",
        "You have two weights and one bias. Let's call them w1, w2, and b. You have to implement gradient decent algorithm for updating these parameters.\n",
        "\n",
        "Note that you can work with a tensor array with the shape of (3,1) for your parameters.\n",
        "\n",
        "([[b],[w1],[w2]])"
      ]
    },
    {
      "cell_type": "markdown",
      "id": "93aed439",
      "metadata": {
        "id": "93aed439"
      },
      "source": [
        "### Initiliazation of the parameters"
      ]
    },
    {
      "cell_type": "code",
      "execution_count": null,
      "id": "19f11f36",
      "metadata": {
        "id": "19f11f36"
      },
      "outputs": [],
      "source": [
        "# Initialize parameters (bias, w1, w2) as zeros\n",
        "######################################\n",
        "## code here\n",
        "parameters = torch.tensor([[0],[0],[0]], dtype=torch.float64)\n",
        "######################################\n"
      ]
    },
    {
      "cell_type": "markdown",
      "id": "a0e6ae7c",
      "metadata": {
        "id": "a0e6ae7c"
      },
      "source": [
        "### Preparing dataset\n",
        "Pay attention to the first image of this note book. As you can see, the first input is 1. So you should modify your input (X) matrix.\n",
        "\n",
        "hint : torch.cat()"
      ]
    },
    {
      "cell_type": "code",
      "execution_count": null,
      "id": "2L0NAP9SqRcQ",
      "metadata": {
        "id": "2L0NAP9SqRcQ"
      },
      "outputs": [],
      "source": [
        "# Convert data to PyTorch tensors\n",
        "######################################\n",
        "## code here\n",
        "X = torch.tensor(X)\n",
        "y = torch.tensor(y)\n",
        "######################################"
      ]
    },
    {
      "cell_type": "code",
      "execution_count": null,
      "id": "dbb5323c",
      "metadata": {
        "id": "dbb5323c"
      },
      "outputs": [],
      "source": [
        "######################################\n",
        "## code here\n",
        "X = torch.cat((torch.ones(size=(X.shape[0],1)),X), dim=1)\n",
        "######################################"
      ]
    },
    {
      "cell_type": "code",
      "execution_count": null,
      "id": "f5d281de",
      "metadata": {
        "id": "f5d281de"
      },
      "outputs": [],
      "source": [
        "y = y.reshape((-1,1))"
      ]
    },
    {
      "cell_type": "markdown",
      "id": "f7cce2e4",
      "metadata": {
        "id": "f7cce2e4"
      },
      "source": [
        "### Calculating the output of the perceptron"
      ]
    },
    {
      "cell_type": "code",
      "execution_count": null,
      "id": "02937e56",
      "metadata": {
        "id": "02937e56"
      },
      "outputs": [],
      "source": [
        "def calculate_output(X, parameters):\n",
        "    '''\n",
        "    Calculate the output of perceptron with unit step activation function\n",
        "    for all samples\n",
        "    intput(s):\n",
        "    X (ndarray): a 2-D array with the shape of (number of samples, 3)\n",
        "    parameters (ndarray): a 2-D array with the shape of (3, 1)\n",
        "    output(s):\n",
        "    y_out (ndarray): a 2-D array with the shape of (number of samples, 1)\n",
        "    '''\n",
        "    ##############################################\n",
        "    ## code here\n",
        "    ## y_out is the output of your neuron.\n",
        "    ## First, you should implement matrix multiplicatoin of paramertrs and inputs\n",
        "    ## Second, you should implement a Unit Step function as an activation function for each element of the y_out\n",
        "    ## the y_out should be an array with the shape of (500,1).\n",
        "    ## please note that you are not allowed to use any loop!!!\n",
        "    mat_mul = torch.matmul(X,parameters)\n",
        "    sum = torch.sum(mat_mul, dim = 1, keepdim=True)\n",
        "    y_out = torch.heaviside(sum, torch.tensor([0], dtype=sum.dtype))\n",
        "    ##############################################\n",
        "\n",
        "    return y_out"
      ]
    },
    {
      "cell_type": "markdown",
      "id": "ab2c4092",
      "metadata": {
        "id": "ab2c4092"
      },
      "source": [
        "### Implementing the gradient decent algorithm"
      ]
    },
    {
      "cell_type": "code",
      "execution_count": null,
      "id": "d216fda1",
      "metadata": {
        "id": "d216fda1"
      },
      "outputs": [],
      "source": [
        "lr = 0.1  # learning rate\n",
        "num_epochs = 20"
      ]
    },
    {
      "cell_type": "markdown",
      "id": "4572a634",
      "metadata": {
        "id": "4572a634"
      },
      "source": [
        "For implmenting the gradient decent algorithm refer to page 17 of perceptron slides."
      ]
    },
    {
      "cell_type": "code",
      "execution_count": null,
      "id": "130b90b7",
      "metadata": {
        "id": "130b90b7",
        "colab": {
          "base_uri": "https://localhost:8080/"
        },
        "outputId": "da6aff87-aaa5-4bea-f428-e0817cddc70d"
      },
      "outputs": [
        {
          "output_type": "stream",
          "name": "stdout",
          "text": [
            "in epoch :  0  errors :  250\n",
            "in epoch :  1  errors :  98\n",
            "in epoch :  2  errors :  7\n",
            "in epoch :  3  errors :  6\n",
            "in epoch :  4  errors :  6\n",
            "in epoch :  5  errors :  6\n",
            "in epoch :  6  errors :  6\n",
            "in epoch :  7  errors :  3\n",
            "in epoch :  8  errors :  3\n",
            "in epoch :  9  errors :  3\n",
            "in epoch :  10  errors :  3\n",
            "in epoch :  11  errors :  3\n",
            "in epoch :  12  errors :  2\n",
            "in epoch :  13  errors :  2\n",
            "in epoch :  14  errors :  2\n",
            "in epoch :  15  errors :  2\n",
            "in epoch :  16  errors :  2\n",
            "in epoch :  17  errors :  2\n",
            "in epoch :  18  errors :  1\n",
            "in epoch :  19  errors :  1\n"
          ]
        }
      ],
      "source": [
        "for i in range(num_epochs):\n",
        "    y_out = calculate_output(X, parameters)\n",
        "    errors = 0\n",
        "\n",
        "    for j in range(X.shape[0]):\n",
        "        if y[j,0] != y_out[j,0] :\n",
        "            errors += 1\n",
        "        ######################################\n",
        "        ## code here\n",
        "        ## implement the code for updating each parameter\n",
        "        ## note that you should calculate all parameters together.\n",
        "        ## for example, you are not allowed to implement like the bellow:\n",
        "        ## parameters[0] = ...\n",
        "        ## paramters[1] = ...\n",
        "        ## it should be like the bellow:\n",
        "        ## paramters = ...\n",
        "        parameters = parameters + ((y[j,0] - y_out[j,0]) * X[j] * lr).unsqueeze(dim=1)\n",
        "        ######################################\n",
        "\n",
        "    print(\"in epoch : \", i, \" errors : \", errors)"
      ]
    },
    {
      "cell_type": "code",
      "execution_count": null,
      "id": "n0oURLM_q_cj",
      "metadata": {
        "id": "n0oURLM_q_cj",
        "colab": {
          "base_uri": "https://localhost:8080/"
        },
        "outputId": "4348dff8-038d-455a-db8a-e7770d8506d1"
      },
      "outputs": [
        {
          "output_type": "stream",
          "name": "stdout",
          "text": [
            "Trained Parameters (bias, w1, w2):\n",
            "tensor([[  9.2000],\n",
            "        [-98.1955],\n",
            "        [-51.2835]], dtype=torch.float64)\n"
          ]
        }
      ],
      "source": [
        "print(\"Trained Parameters (bias, w1, w2):\")\n",
        "print(parameters)"
      ]
    },
    {
      "cell_type": "code",
      "execution_count": null,
      "id": "cf1e58fc",
      "metadata": {
        "id": "cf1e58fc"
      },
      "outputs": [],
      "source": [
        "# Extract bias and weights\n",
        "b = parameters[0]\n",
        "w1 = parameters[1]\n",
        "w2 = parameters[2]\n",
        "X = X[:, 1:]  # Remove the bias term from input matrix\n",
        "y = y.view(-1)  # Reshape y for plotting"
      ]
    },
    {
      "cell_type": "code",
      "execution_count": null,
      "id": "457bc8f3",
      "metadata": {
        "id": "457bc8f3",
        "colab": {
          "base_uri": "https://localhost:8080/",
          "height": 718
        },
        "outputId": "449a443f-aaf0-4672-e886-fe3c4cfc8eb3"
      },
      "outputs": [
        {
          "output_type": "display_data",
          "data": {
            "text/plain": [
              "<Figure size 1000x800 with 1 Axes>"
            ],
            "image/png": "[encoded data removed]"
          },
          "metadata": {}
        }
      ],
      "source": [
        "# Plot the result\n",
        "x1 = [X[:, 0].min().item(), X[:, 0].max().item()]\n",
        "m = -w1 / w2\n",
        "c = -b / w2\n",
        "x2 = m * torch.tensor(x1) + c\n",
        "\n",
        "fig = plt.figure(figsize=(10, 8))\n",
        "plt.plot(X[:, 0][y == 0], X[:, 1][y == 0], \"r^\")\n",
        "plt.plot(X[:, 0][y == 1], X[:, 1][y == 1], \"bs\")\n",
        "plt.xlabel(\"feature 1\")\n",
        "plt.ylabel(\"feature 2\")\n",
        "plt.title('Perceptron Algorithm')\n",
        "plt.plot(x1, x2, 'y-')\n",
        "plt.show()"
      ]
    }
  ],
  "metadata": {
    "colab": {
      "provenance": []
    },
    "kernelspec": {
      "display_name": "Python 3",
      "language": "python",
      "name": "python3"
    },
    "language_info": {
      "codemirror_mode": {
        "name": "ipython",
        "version": 3
      },
      "file_extension": ".py",
      "mimetype": "text/x-python",
      "name": "python",
      "nbconvert_exporter": "python",
      "pygments_lexer": "ipython3",
      "version": "3.12.3"
    }
  },
  "nbformat": 4,
  "nbformat_minor": 5
}