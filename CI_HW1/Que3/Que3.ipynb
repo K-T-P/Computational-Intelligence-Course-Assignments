{
  "cells": [
    {
      "cell_type": "markdown",
      "id": "fa947a47",
      "metadata": {
        "id": "fa947a47"
      },
      "source": [
        "# HW1: Train a precptron model\n",
        "\n",
        "In this assignemnt we want to design a simple neural network with only one perceptron unit and train it with a simple dataset.\n",
        "\n",
        "The main goal of this assignment is working with the PyTorch library so you are not allowed to use any loop in your implmentation or even methods from the NumPy library.\n",
        "\n",
        "**Notes:**\n",
        "- When you submit your assignment, the output of every cell should be visible.\n",
        "- You are not eligible to change any parts of the code except the predefined sections.\n",
        "- You can add your implementation only in the predefined sections.\n",
        "\n",
        "<br />\n",
        "<br />\n",
        "<img src=\"perceptron.png\">"
      ]
    },
    {
      "cell_type": "markdown",
      "id": "8fe133d7",
      "metadata": {
        "id": "8fe133d7"
      },
      "source": [
        "## Getting started\n",
        "You will start by importing libraries, reading dataset, and visualizing it."
      ]
    },
    {
      "cell_type": "code",
      "execution_count": null,
      "id": "28bb46f4",
      "metadata": {
        "id": "28bb46f4"
      },
      "outputs": [],
      "source": [
        "import torch\n",
        "import matplotlib.pyplot as plt\n",
        "import pandas as pd"
      ]
    },
    {
      "cell_type": "markdown",
      "id": "69b2419a",
      "metadata": {
        "id": "69b2419a"
      },
      "source": [
        "### Load dataset"
      ]
    },
    {
      "cell_type": "code",
      "execution_count": null,
      "id": "3f71c882",
      "metadata": {
        "id": "3f71c882"
      },
      "outputs": [],
      "source": [
        "# Note that if you get an error, you should change the dataset.csv to\n",
        "# the correct path of the file.\n",
        "dataset = pd.read_csv('dataset.csv')"
      ]
    },
    {
      "cell_type": "code",
      "execution_count": null,
      "id": "197a7ff3",
      "metadata": {
        "id": "197a7ff3"
      },
      "outputs": [],
      "source": [
        "# Dataset general information\n",
        "dataset.info()"
      ]
    },
    {
      "cell_type": "code",
      "execution_count": null,
      "id": "9f584faa",
      "metadata": {
        "id": "9f584faa"
      },
      "outputs": [],
      "source": [
        "# Displaying the five first rows of the dataset\n",
        "dataset.head()"
      ]
    },
    {
      "cell_type": "markdown",
      "id": "e2771175",
      "metadata": {
        "id": "e2771175"
      },
      "source": [
        "### Visualizing dataset"
      ]
    },
    {
      "cell_type": "code",
      "execution_count": null,
      "id": "aa5727d7",
      "metadata": {
        "id": "aa5727d7"
      },
      "outputs": [],
      "source": [
        "# Plot the dataset\n",
        "X = dataset.drop([\"y\"], axis=1).values\n",
        "y = dataset[\"y\"].values\n",
        "\n",
        "fig = plt.figure(figsize=(10,8))\n",
        "plt.plot(X[:, 0][y == 0], X[:, 1][y == 0], 'r^')\n",
        "plt.plot(X[:, 0][y == 1], X[:, 1][y == 1], 'bs')\n",
        "plt.xlabel(\"feature 1\")\n",
        "plt.ylabel(\"feature 2\")\n",
        "plt.title('Random Classification Data with 2 classes')"
      ]
    },
    {
      "cell_type": "markdown",
      "id": "772f653e",
      "metadata": {
        "id": "772f653e"
      },
      "source": [
        "## Implementation of the algorithm\n",
        "You have two weights and one bias. Let's call them w1, w2, and b. You have to implement gradient decent algorithm for updating these parameters.\n",
        "\n",
        "Note that you can work with a tensor array with the shape of (3,1) for your parameters.\n",
        "\n",
        "([[b],[w1],[w2]])"
      ]
    },
    {
      "cell_type": "markdown",
      "id": "93aed439",
      "metadata": {
        "id": "93aed439"
      },
      "source": [
        "### Initiliazation of the parameters"
      ]
    },
    {
      "cell_type": "code",
      "execution_count": null,
      "id": "19f11f36",
      "metadata": {
        "id": "19f11f36"
      },
      "outputs": [],
      "source": [
        "# Initialize parameters (bias, w1, w2) as zeros\n",
        "######################################\n",
        "## code here\n",
        "parameters = None\n",
        "######################################\n"
      ]
    },
    {
      "cell_type": "markdown",
      "id": "a0e6ae7c",
      "metadata": {
        "id": "a0e6ae7c"
      },
      "source": [
        "### Preparing dataset\n",
        "Pay attention to the first image of this note book. As you can see, the first input is 1. So you should modify your input (X) matrix.\n",
        "\n",
        "hint : torch.cat()"
      ]
    },
    {
      "cell_type": "code",
      "source": [
        "# Convert data to PyTorch tensors\n",
        "######################################\n",
        "## code here\n",
        "X = None\n",
        "y = None\n",
        "######################################"
      ],
      "metadata": {
        "id": "2L0NAP9SqRcQ"
      },
      "id": "2L0NAP9SqRcQ",
      "execution_count": null,
      "outputs": []
    },
    {
      "cell_type": "code",
      "execution_count": null,
      "id": "dbb5323c",
      "metadata": {
        "id": "dbb5323c"
      },
      "outputs": [],
      "source": [
        "######################################\n",
        "## code here\n",
        "X = None\n",
        "######################################"
      ]
    },
    {
      "cell_type": "code",
      "execution_count": null,
      "id": "f5d281de",
      "metadata": {
        "id": "f5d281de"
      },
      "outputs": [],
      "source": [
        "y = y.reshape((-1,1))"
      ]
    },
    {
      "cell_type": "markdown",
      "id": "f7cce2e4",
      "metadata": {
        "id": "f7cce2e4"
      },
      "source": [
        "### Calculating the output of the perceptron"
      ]
    },
    {
      "cell_type": "code",
      "execution_count": null,
      "id": "02937e56",
      "metadata": {
        "id": "02937e56"
      },
      "outputs": [],
      "source": [
        "def calculate_output(X, parameters):\n",
        "    '''\n",
        "    Calculate the output of perceptron with unit step activation function\n",
        "    for all samples\n",
        "    intput(s):\n",
        "    X (ndarray): a 2-D array with the shape of (number of samples, 3)\n",
        "    parameters (ndarray): a 2-D array with the shape of (3, 1)\n",
        "    output(s):\n",
        "    y_out (ndarray): a 2-D array with the shape of (number of samples, 1)\n",
        "    '''\n",
        "    ##############################################\n",
        "    ## code here\n",
        "    ## y_out is the output of your neuron.\n",
        "    ## First, you should implement matrix multiplicatoin of paramertrs and inputs\n",
        "    ## Second, you should implement a Unit Step function as an activation function for each element of the y_out\n",
        "    ## the y_out should be an array with the shape of (500,1).\n",
        "    ## please note that you are not allowed to use any loop!!!\n",
        "    y_out = None\n",
        "    ##############################################\n",
        "\n",
        "    return y_out"
      ]
    },
    {
      "cell_type": "markdown",
      "id": "ab2c4092",
      "metadata": {
        "id": "ab2c4092"
      },
      "source": [
        "### Implementing the gradient decent algorithm"
      ]
    },
    {
      "cell_type": "code",
      "execution_count": null,
      "id": "d216fda1",
      "metadata": {
        "id": "d216fda1"
      },
      "outputs": [],
      "source": [
        "lr = 0.1  # learning rate\n",
        "num_epochs = 20"
      ]
    },
    {
      "cell_type": "markdown",
      "id": "4572a634",
      "metadata": {
        "id": "4572a634"
      },
      "source": [
        "For implmenting the gradient decent algorithm refer to page 17 of perceptron slides."
      ]
    },
    {
      "cell_type": "code",
      "execution_count": null,
      "id": "130b90b7",
      "metadata": {
        "id": "130b90b7"
      },
      "outputs": [],
      "source": [
        "for i in range(num_epochs):\n",
        "    y_out = calculate_output(X, parameters)\n",
        "    errors = 0\n",
        "\n",
        "    for j in range(X.shape[0]):\n",
        "        if y[j,0] != y_out[j,0] :\n",
        "            errors += 1\n",
        "        ######################################\n",
        "        ## code here\n",
        "        ## implement the code for updating each parameter\n",
        "        ## note that you should calculate all parameters together.\n",
        "        ## for example, you are not allowed to implement like the bellow:\n",
        "        ## parameters[0] = ...\n",
        "        ## paramters[1] = ...\n",
        "        ## it should be like the bellow:\n",
        "        ## paramters = ...\n",
        "        paramteres = None\n",
        "        ######################################\n",
        "\n",
        "    print(\"in epoch : \", i, \" errors : \", errors)"
      ]
    },
    {
      "cell_type": "code",
      "source": [
        "print(\"Trained Parameters (bias, w1, w2):\")\n",
        "print(parameters)"
      ],
      "metadata": {
        "id": "n0oURLM_q_cj"
      },
      "id": "n0oURLM_q_cj",
      "execution_count": null,
      "outputs": []
    },
    {
      "cell_type": "code",
      "execution_count": null,
      "id": "cf1e58fc",
      "metadata": {
        "id": "cf1e58fc"
      },
      "outputs": [],
      "source": [
        "# Extract bias and weights\n",
        "b = parameters[0]\n",
        "w1 = parameters[1]\n",
        "w2 = parameters[2]\n",
        "X = X[:, 1:]  # Remove the bias term from input matrix\n",
        "y = y.view(-1)  # Reshape y for plotting"
      ]
    },
    {
      "cell_type": "code",
      "execution_count": null,
      "id": "457bc8f3",
      "metadata": {
        "id": "457bc8f3"
      },
      "outputs": [],
      "source": [
        "# Plot the result\n",
        "x1 = [X[:, 0].min().item(), X[:, 0].max().item()]\n",
        "m = -w1 / w2\n",
        "c = -b / w2\n",
        "x2 = m * torch.tensor(x1) + c\n",
        "\n",
        "fig = plt.figure(figsize=(10, 8))\n",
        "plt.plot(X[:, 0][y == 0], X[:, 1][y == 0], \"r^\")\n",
        "plt.plot(X[:, 0][y == 1], X[:, 1][y == 1], \"bs\")\n",
        "plt.xlabel(\"feature 1\")\n",
        "plt.ylabel(\"feature 2\")\n",
        "plt.title('Perceptron Algorithm')\n",
        "plt.plot(x1, x2, 'y-')\n",
        "plt.show()"
      ]
    }
  ],
  "metadata": {
    "kernelspec": {
      "display_name": "Python 3 (ipykernel)",
      "language": "python",
      "name": "python3"
    },
    "language_info": {
      "codemirror_mode": {
        "name": "ipython",
        "version": 3
      },
      "file_extension": ".py",
      "mimetype": "text/x-python",
      "name": "python",
      "nbconvert_exporter": "python",
      "pygments_lexer": "ipython3",
      "version": "3.10.5"
    },
    "colab": {
      "provenance": []
    }
  },
  "nbformat": 4,
  "nbformat_minor": 5
}