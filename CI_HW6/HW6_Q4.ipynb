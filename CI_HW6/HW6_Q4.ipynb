{
  "nbformat": 4,
  "nbformat_minor": 0,
  "metadata": {
    "colab": {
      "provenance": []
    },
    "kernelspec": {
      "name": "python3",
      "display_name": "Python 3"
    },
    "language_info": {
      "name": "python"
    }
  },
  "cells": [
    {
      "cell_type": "markdown",
      "source": [
        "## import necessary libraries"
      ],
      "metadata": {
        "id": "qFxJzvBQWbec"
      }
    },
    {
      "cell_type": "code",
      "execution_count": 1,
      "metadata": {
        "id": "HgMT4Ou2WMVS"
      },
      "outputs": [],
      "source": [
        "import random\n",
        "import math\n",
        "import matplotlib.pyplot as plt\n",
        "import numpy as np"
      ]
    },
    {
      "cell_type": "markdown",
      "source": [
        "## implement helper functions"
      ],
      "metadata": {
        "id": "tZAnXrD2Wgl9"
      }
    },
    {
      "cell_type": "code",
      "source": [
        "# TODO: Implement the distance function\n",
        "def distance(city1, city2):\n",
        "    \"\"\"Calculate Euclidean distance between two cities.\"\"\"\n",
        "    pass\n",
        "\n",
        "# TODO: Implement the fitness function\n",
        "def fitness(route):\n",
        "    \"\"\"Calculate the total distance of the route. Lower is better.\"\"\"\n",
        "    pass\n",
        "\n",
        "# TODO: Initialize the population\n",
        "def initialize_population(size, num_cities):\n",
        "    \"\"\"Generate a population of random permutations of cities.\"\"\"\n",
        "    pass\n",
        "\n",
        "# TODO: Implement selection\n",
        "def select_parents(population, fitness_scores):\n",
        "    \"\"\"Select a parent solution based on fitness scores.\"\"\"\n",
        "    pass\n",
        "\n",
        "# TODO: Implement crossover\n",
        "def crossover(parent1, parent2):\n",
        "    \"\"\"Generate two offspring using ordered crossover (OX).\"\"\"\n",
        "    pass\n",
        "\n",
        "# TODO: Implement mutation\n",
        "def mutate(route, mutation_rate):\n",
        "    \"\"\"Introduce a random mutation in the route.\"\"\"\n",
        "    pass\n",
        "\n",
        "# Visualization Function\n",
        "def visualize_route(route, cities, generation):\n",
        "    \"\"\"Plot the current best route.\"\"\"\n",
        "    x = [cities[i][0] for i in route] + [cities[route[0]][0]]\n",
        "    y = [cities[i][1] for i in route] + [cities[route[0]][1]]\n",
        "\n",
        "    plt.figure(figsize=(6, 6))\n",
        "    plt.plot(x, y, '-o', label=f'Generation {generation}')\n",
        "    plt.title(f\"Route Visualization (Generation {generation})\")\n",
        "    plt.xlabel(\"X Coordinate\")\n",
        "    plt.ylabel(\"Y Coordinate\")\n",
        "    plt.legend()\n",
        "    plt.grid(True)\n",
        "    plt.show()"
      ],
      "metadata": {
        "id": "7GkdCzJbWPcE"
      },
      "execution_count": null,
      "outputs": []
    },
    {
      "cell_type": "markdown",
      "source": [
        "## implement the GA and main loop"
      ],
      "metadata": {
        "id": "BVm_W4OrWpzb"
      }
    },
    {
      "cell_type": "code",
      "source": [
        "# TODO: Implement the Genetic Algorithm\n",
        "def genetic_algorithm(cities, population_size=100, generations=300, mutation_rate=0.01):\n",
        "    \"\"\"Genetic Algorithm Main Loop\"\"\"\n",
        "\n",
        "    num_cities = len(cities)\n",
        "    population = initialize_population(population_size, num_cities)\n",
        "    best_routes = []  # To track the best route per generation\n",
        "\n",
        "    for generation in range(generations):\n",
        "        # TODO: Evaluate fitness for the current population\n",
        "\n",
        "        # TODO: Track the best route of the current generation\n",
        "\n",
        "        # Log the best fitness\n",
        "        print(f\"Generation {generation}: Best Fitness = {fitness(best_route)}\")\n",
        "\n",
        "        # TODO: Generate the next generation\n",
        "\n",
        "        # Visualize the best route every 25 generations\n",
        "        if generation % 25 == 0 or generation == generations - 1:\n",
        "            visualize_route(best_route, cities, generation)\n",
        "\n",
        "    # TODO: Return the best route and its distance\n"
      ],
      "metadata": {
        "id": "cSYDOYIGWums"
      },
      "execution_count": null,
      "outputs": []
    },
    {
      "cell_type": "markdown",
      "source": [
        "## Run and test with different cities"
      ],
      "metadata": {
        "id": "-9uPwfxgWwuj"
      }
    },
    {
      "cell_type": "markdown",
      "source": [
        "### test 1"
      ],
      "metadata": {
        "id": "9e_EJRPLbXGc"
      }
    },
    {
      "cell_type": "code",
      "source": [
        "cities = [\n",
        "    (40.7128, -74.0060),  # New York\n",
        "    (34.0522, -118.2437),  # Los Angeles\n",
        "    (41.8781, -87.6298),  # Chicago\n",
        "    (29.7604, -95.3698),  # Houston\n",
        "    (33.4484, -112.0740)  # Phoenix\n",
        "]\n",
        "\n",
        "# Run the Genetic Algorithm\n",
        "best_route, best_distance = genetic_algorithm(cities, generations=100)\n",
        "print(\"Best Route:\", best_route)\n",
        "print(\"Best Distance:\", best_distance)"
      ],
      "metadata": {
        "id": "iZdE4skqW0MU"
      },
      "execution_count": null,
      "outputs": []
    },
    {
      "cell_type": "markdown",
      "source": [
        "### test 2"
      ],
      "metadata": {
        "id": "oCDf9T_ybeu7"
      }
    },
    {
      "cell_type": "code",
      "source": [
        "cities = [\n",
        "    (0, 0), (1, 2), (3, 4), (6, 1), (5, 5), (2, 6), (4, 7), (7, 3), (4, 4), (2, 2), (8, 9), (4, 2), (5, 0), (5, 11),\n",
        "]\n",
        "\n",
        "# Run the Genetic Algorithm\n",
        "best_route, best_distance = genetic_algorithm(cities, generations=200)\n",
        "print(\"Best Route:\", best_route)\n",
        "print(\"Best Distance:\", best_distance)"
      ],
      "metadata": {
        "id": "cBHAXqouYZU0"
      },
      "execution_count": null,
      "outputs": []
    },
    {
      "cell_type": "markdown",
      "source": [
        "### test 3"
      ],
      "metadata": {
        "id": "OthqUkVcbicb"
      }
    },
    {
      "cell_type": "code",
      "source": [
        "np.random.seed(42)  # For reproducibility\n",
        "cities = [(np.random.randint(0, 100), np.random.randint(0, 100)) for _ in range(25)]\n",
        "\n",
        "# Run the Genetic Algorithm\n",
        "best_route, best_distance = genetic_algorithm(cities, generations=300)\n",
        "print(\"Best Route:\", best_route)\n",
        "print(\"Best Distance:\", best_distance)"
      ],
      "metadata": {
        "id": "RMK9JMINZwjs"
      },
      "execution_count": null,
      "outputs": []
    },
    {
      "cell_type": "markdown",
      "source": [
        "## Analysis\n",
        "\n",
        "Test with various mutation rates, population sizes, and generations to analyze the impact on results. Then analyze and express the effect of each parameter.\n",
        "\n",
        "*answer*"
      ],
      "metadata": {
        "id": "OkG3qyFkb8P0"
      }
    }
  ]
}