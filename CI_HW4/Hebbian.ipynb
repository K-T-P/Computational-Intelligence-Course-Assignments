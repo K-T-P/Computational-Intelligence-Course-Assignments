{
 "cells": [
  {
   "cell_type": "markdown",
   "metadata": {
    "id": "TrTgLEbeuyZ8"
   },
   "source": [
    "# Hopfield Network\n",
    "###### data reconstruction"
   ]
  },
  {
   "cell_type": "markdown",
   "metadata": {
    "id": "y5d1AacpuyaA"
   },
   "source": [
    "Import dependencies"
   ]
  },
  {
   "cell_type": "code",
   "execution_count": 16,
   "metadata": {
    "collapsed": true,
    "id": "YPlxdgK5uyaB"
   },
   "outputs": [],
   "source": [
    "import numpy as np\n",
    "import matplotlib.pyplot as plt\n",
    "%matplotlib inline"
   ]
  },
  {
   "cell_type": "markdown",
   "metadata": {
    "id": "l5IQbKm8uyaC"
   },
   "source": [
    "### Util functions"
   ]
  },
  {
   "cell_type": "markdown",
   "metadata": {
    "id": "5xTSe3HpuyaD"
   },
   "source": [
    "function to plot the images after during testing phase"
   ]
  },
  {
   "cell_type": "code",
   "execution_count": 17,
   "metadata": {
    "collapsed": true,
    "id": "DyN2OD1iuyaD"
   },
   "outputs": [],
   "source": [
    "def plot_images(images, title, no_i_x, no_i_y=3):\n",
    "    fig = plt.figure(figsize=(10, 15))\n",
    "    # Modern workaround for setting window title\n",
    "    fig.suptitle(title, fontsize=16)\n",
    "    images = np.array(images).reshape(-1, 5, 5)\n",
    "    images = np.pad(images, ((0, 0), (1, 1), (1, 1)), 'constant', constant_values=-1)\n",
    "    for i in range(no_i_x):\n",
    "        for j in range(no_i_y):\n",
    "            ax = fig.add_subplot(no_i_x, no_i_y, no_i_x * j + (i + 1))\n",
    "            ax.matshow(images[no_i_x * j + i], cmap=\"gray\")\n",
    "            plt.xticks(np.array([]))\n",
    "            plt.yticks(np.array([]))\n",
    "\n",
    "            if j == 0 and i == 0:\n",
    "                ax.set_title(\"Real\")\n",
    "            elif j == 0 and i == 1:\n",
    "                ax.set_title(\"Distorted\")\n",
    "            elif j == 0 and i == 2:\n",
    "                ax.set_title(\"Reconstructed\")\n"
   ]
  },
  {
   "cell_type": "markdown",
   "metadata": {
    "id": "ZbDoLSQ5uyaE"
   },
   "source": [
    "####  Dummy Data"
   ]
  },
  {
   "cell_type": "code",
   "execution_count": 18,
   "metadata": {
    "collapsed": true,
    "id": "5HYhxR54uyaE"
   },
   "outputs": [],
   "source": [
    "perfect_data = {\n",
    "    \"P\": [1, 1, 1, 1, -1, 1, -1, -1, -1, 1, 1, 1, 1, 1, -1, 1, -1, -1, -1, -1, 1, -1, -1, -1, -1],\n",
    "    \"Y\": [1, -1, -1, -1, 1, -1, 1, -1, 1, -1, -1, -1, 1, -1, -1, -1, -1, 1, -1, -1, -1, -1, 1, -1, -1],\n",
    "    \"T\": [1, 1, 1, 1, 1, -1, -1, 1, -1, -1, -1, -1, 1, -1, -1, -1, -1, 1, -1, -1, -1, -1, 1, -1, -1],\n",
    "    \"H\": [1, -1, -1, -1, 1, 1, -1, -1, -1, 1, 1, 1, 1, 1, 1, 1, -1, -1, -1, 1, 1, -1, -1, -1, 1],\n",
    "    \"O\": [1, 1, 1, 1, 1, 1, -1, -1, -1, 1, 1, -1, -1, -1, 1, 1, -1, -1, -1, 1, 1, 1, 1, 1, 1],\n",
    "    \"N\": [1, -1, -1, -1, 1, 1, 1, -1, -1, 1, 1, -1, 1, -1, 1, 1, -1, -1, 1, 1, 1, -1, -1, -1, 1]\n",
    "}"
   ]
  },
  {
   "cell_type": "markdown",
   "metadata": {
    "id": "7M0GxQEHuyaE"
   },
   "source": [
    "### Pre-Process Data"
   ]
  },
  {
   "cell_type": "markdown",
   "metadata": {
    "id": "_VMVbdKwuyaF"
   },
   "source": [
    "##### Data Parameters"
   ]
  },
  {
   "cell_type": "markdown",
   "metadata": {
    "id": "jaIyAe1FuyaF"
   },
   "source": [
    "Hopfield networks can hold about 0.138 \\* n_neurons for better denoising <br>\n",
    "0.138 \\* n_neurons = 0.138 \\* 25 = 3.45 ~ 3 <br>"
   ]
  },
  {
   "cell_type": "code",
   "execution_count": 19,
   "metadata": {
    "collapsed": true,
    "id": "ZDHPJWbluyaG"
   },
   "outputs": [],
   "source": [
    "n_train = 3"
   ]
  },
  {
   "cell_type": "code",
   "execution_count": 20,
   "metadata": {
    "collapsed": true,
    "id": "DlUd8RLnuyaG"
   },
   "outputs": [],
   "source": [
    "n_test = 100"
   ]
  },
  {
   "cell_type": "code",
   "execution_count": 21,
   "metadata": {
    "collapsed": true,
    "id": "K9YtcGc-uyaG"
   },
   "outputs": [],
   "source": [
    "# no of images to show in output plot\n",
    "n_train_disp = 10\n",
    "\n",
    "# Amount of distortion (0 < distort < 1)\n",
    "distort = 0.15\n",
    "\n",
    "# Size of image(width)\n",
    "n_side = 5\n",
    "\n",
    "# No of neurons\n",
    "n_neurons = n_side * n_side"
   ]
  },
  {
   "cell_type": "code",
   "execution_count": 22,
   "metadata": {
    "collapsed": true,
    "id": "R38WVAK8uyaH"
   },
   "outputs": [],
   "source": [
    "train_data = [np.array(d) for d in perfect_data.values()][:n_train]"
   ]
  },
  {
   "cell_type": "markdown",
   "metadata": {
    "id": "X5u2gdKduyaH"
   },
   "source": [
    "Generate test data by adding noise to train data"
   ]
  },
  {
   "cell_type": "code",
   "execution_count": 23,
   "metadata": {
    "collapsed": true,
    "id": "lT3ZGj5CuyaH"
   },
   "outputs": [],
   "source": [
    "test_data = []\n",
    "for d in range(n_test):\n",
    "    r_i = np.random.randint(0, n_train)\n",
    "    base_pattern = np.array(train_data[r_i])\n",
    "    noise = 1 * (np.random.random(base_pattern.shape) > distort)\n",
    "    np.place(noise, noise == 0, -1)\n",
    "    noisy_pattern = np.multiply(base_pattern, noise)\n",
    "    test_data.append((base_pattern, noisy_pattern))"
   ]
  },
  {
   "cell_type": "markdown",
   "metadata": {
    "id": "Fq8CNlmduyaI"
   },
   "source": [
    "### Neural Network"
   ]
  },
  {
   "cell_type": "markdown",
   "metadata": {
    "id": "p-U5j1DtuyaI"
   },
   "source": [
    "Function to train the network using Hebbian learning rule"
   ]
  },
  {
   "cell_type": "code",
   "execution_count": 24,
   "metadata": {
    "collapsed": true,
    "id": "0QkhT3HruyaI"
   },
   "outputs": [],
   "source": [
    "def train(neu, training_data):\n",
    "    # Step 1: Initialize the weight matrix\n",
    "    w = np.zeros((neu, neu))\n",
    "\n",
    "    # Step 2: Update weights using the training data\n",
    "    # Hint: Use the outer product to update weights\n",
    "    for data in training_data:\n",
    "        w += np.outer(data, data.T)\n",
    "    \n",
    "    # Step 3: Set the diagonal of w to zero\n",
    "    # Your Code\n",
    "    np.fill_diagonal(w, 0)\n",
    "    return w"
   ]
  },
  {
   "cell_type": "markdown",
   "metadata": {
    "collapsed": false
   },
   "source": [
    "Function to retrieve individual noisy patterns"
   ]
  },
  {
   "cell_type": "code",
   "execution_count": 25,
   "metadata": {
    "collapsed": false
   },
   "outputs": [],
   "source": [
    "def retrieve_pattern(weights, data, steps=10):\n",
    "    res = np.array(data)\n",
    "\n",
    "    for _ in range(steps):\n",
    "        for i in range(len(res)):\n",
    "            # Step 1: Calculate raw_v using the dot product\n",
    "            # Your Code\n",
    "            raw_v = np.dot(res, weights)\n",
    "            raw_v[raw_v > 0] = 1\n",
    "            raw_v[raw_v <= 0] = -1\n",
    "            # Step 2: Update the neuron based on raw_v\n",
    "            # Your Code\n",
    "            res = raw_v\n",
    "    return res"
   ]
  },
  {
   "cell_type": "markdown",
   "metadata": {
    "id": "FxTcLOk2uyaI"
   },
   "source": [
    "Function to test the network"
   ]
  },
  {
   "cell_type": "code",
   "execution_count": 26,
   "metadata": {
    "collapsed": true,
    "id": "Jse12zIvuyaJ"
   },
   "outputs": [],
   "source": [
    "def test(weights, testing_data):\n",
    "    # Initialize the success counter\n",
    "    success = 0.0\n",
    "\n",
    "    # Create a list to store the output data for analysis\n",
    "    output_data = []\n",
    "\n",
    "    # Loop through each data sample in the testing dataset\n",
    "    for data in testing_data:\n",
    "        # Step 1: Extract the true pattern\n",
    "        # Step 2: Extract the noisy input pattern\n",
    "        true_data, noisy_data = data\n",
    "\n",
    "        # Step 3: Predict the pattern from the noisy input\n",
    "        # Your Code\n",
    "        predicted_data = retrieve_pattern(weights, noisy_data)\n",
    "        # Step 4: Check if the predicted pattern matches the true pattern\n",
    "        # Your Code\n",
    "        success += np.array_equal(predicted_data, true_data)\n",
    "        # Step 5: Store the true, noisy, and predicted data in output_data for later analysis\n",
    "        output_data.append([true_data, noisy_data, predicted_data])\n",
    "\n",
    "    # Calculate the success rate\n",
    "    return (success / len(testing_data)), output_data"
   ]
  },
  {
   "cell_type": "markdown",
   "metadata": {
    "id": "JGuCcskiuyaJ"
   },
   "source": [
    "#### Train"
   ]
  },
  {
   "cell_type": "code",
   "execution_count": 27,
   "metadata": {
    "collapsed": true,
    "id": "KS5N642uuyaK"
   },
   "outputs": [],
   "source": [
    "W = train(n_neurons, train_data)"
   ]
  },
  {
   "cell_type": "markdown",
   "metadata": {
    "id": "A4ZxzlXMuyaK"
   },
   "source": [
    "#### Test"
   ]
  },
  {
   "cell_type": "code",
   "execution_count": 28,
   "metadata": {
    "collapsed": true,
    "id": "VRZ9_aytuyaK"
   },
   "outputs": [],
   "source": [
    "accuracy, op_imgs = test(W, test_data)"
   ]
  },
  {
   "cell_type": "markdown",
   "metadata": {
    "id": "B7Ue7LSuuyaK"
   },
   "source": [
    "Print accuracy"
   ]
  },
  {
   "cell_type": "code",
   "execution_count": 29,
   "metadata": {
    "colab": {
     "base_uri": "https://localhost:8080/"
    },
    "id": "aWmB8ldKuyaK",
    "outputId": "16068c07-d981-4dbc-c2c9-ed162b82a6f9"
   },
   "outputs": [
    {
     "name": "stdout",
     "output_type": "stream",
     "text": [
      "Accuracy of the network is 95.000000\n"
     ]
    }
   ],
   "source": [
    "print(\"Accuracy of the network is %f\" % (accuracy * 100))"
   ]
  },
  {
   "cell_type": "markdown",
   "metadata": {
    "id": "f9RewaQmuyaM"
   },
   "source": [
    "#### Plot test result"
   ]
  },
  {
   "cell_type": "code",
   "execution_count": 30,
   "metadata": {
    "colab": {
     "base_uri": "https://localhost:8080/",
     "height": 1000
    },
    "id": "BwPdmjjzuyaM",
    "outputId": "c53ac8ba-f529-4845-9d5e-26f9bc9166d7"
   },
   "outputs": [
    {
     "data": {
      "image/png": "[encoded data removed]",
      "text/plain": [
       "<Figure size 1000x1500 with 30 Axes>"
      ]
     },
     "metadata": {},
     "output_type": "display_data"
    }
   ],
   "source": [
    "plot_images(op_imgs, \"Reconstructed Data\", n_train_disp)\n",
    "plt.show()"
   ]
  }
 ],
 "metadata": {
  "colab": {
   "provenance": []
  },
  "kernelspec": {
   "display_name": "Python 3",
   "language": "python",
   "name": "python3"
  },
  "language_info": {
   "codemirror_mode": {
    "name": "ipython",
    "version": 3
   },
   "file_extension": ".py",
   "mimetype": "text/x-python",
   "name": "python",
   "nbconvert_exporter": "python",
   "pygments_lexer": "ipython3",
   "version": "3.12.3"
  }
 },
 "nbformat": 4,
 "nbformat_minor": 0
}
