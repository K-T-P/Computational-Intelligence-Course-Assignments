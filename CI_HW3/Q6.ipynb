{
 "cells": [
  {
   "cell_type": "code",
   "execution_count": null,
   "metadata": {},
   "outputs": [],
   "source": [
    "from minisom import MiniSom\n",
    "import numpy as np\n",
    "\n",
    "\n",
    "som_size = (10, 10) \n",
    "sigma = 1.0 \n",
    "learning_rate = 0.2\n",
    "num_iterations = 1000\n",
    "\n",
    "\n",
    "som = MiniSom(som_size[0], som_size[1], data.shape[1], sigma=sigma, learning_rate=learning_rate)\n",
    "som.train_random(data, num_iteration)\n",
    "\n",
    "\n",
    "winner_coordinates = np.array([som.winner(x) for x in data])"
   ]
  }
 ],
 "metadata": {
  "kernelspec": {
   "display_name": "Python 3",
   "language": "python",
   "name": "python3"
  },
  "language_info": {
   "name": "python",
   "version": "3.12.3"
  }
 },
 "nbformat": 4,
 "nbformat_minor": 2
}
